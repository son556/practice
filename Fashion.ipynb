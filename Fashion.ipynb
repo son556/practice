{
 "cells": [
  {
   "cell_type": "code",
   "execution_count": 4,
   "id": "f4fcd33e",
   "metadata": {},
   "outputs": [],
   "source": [
    "import pandas as pd\n",
    "train = pd.read_csv('./data/dacon_data/fashion/train.csv').iloc[:, 1:]\n",
    "test = pd.read_csv('./data/dacon_data/fashion/test.csv').iloc[:, 1:]\n",
    "submission = pd.read_csv('./data/dacon_data/fashion/sample_submission.csv')"
   ]
  },
  {
   "cell_type": "code",
   "execution_count": null,
   "id": "27c954de",
   "metadata": {},
   "outputs": [],
   "source": []
  }
 ],
 "metadata": {
  "kernelspec": {
   "display_name": "Python 3 (ipykernel)",
   "language": "python",
   "name": "python3"
  },
  "language_info": {
   "codemirror_mode": {
    "name": "ipython",
    "version": 3
   },
   "file_extension": ".py",
   "mimetype": "text/x-python",
   "name": "python",
   "nbconvert_exporter": "python",
   "pygments_lexer": "ipython3",
   "version": "3.9.7"
  }
 },
 "nbformat": 4,
 "nbformat_minor": 5
}
