{
 "cells": [
  {
   "cell_type": "markdown",
   "id": "e89540e8",
   "metadata": {
    "id": "e89540e8"
   },
   "source": [
    "### 따릉이 데이터를 활용한 데이터 분석\n",
    "   - 각 날짜의 1시간 전의 기상상황을 가지고 1시간 후의 따릉이 대여수를 예측해보세요"
   ]
  },
  {
   "cell_type": "markdown",
   "id": "38c76b5e",
   "metadata": {
    "id": "38c76b5e"
   },
   "source": [
    "- id 고유 id\n",
    "- hour 시간\n",
    "- temperature 기온\n",
    "- precipitation 비가 오지 않았으면 0, 비가 오면 1\n",
    "- windspeed 풍속(평균)\n",
    "- humidity 습도\n",
    "- visibility 시정(視程), 시계(視界)(특정 기상 상태에 따른 가시성을 의미)\n",
    "- ozone 오존\n",
    "- pm10 미세먼지(머리카락 굵기의 1/5에서 1/7 크기의 미세먼지)\n",
    "- pm2.5 미세먼지(머리카락 굵기의 1/20에서 1/30 크기의 미세먼지)\n",
    "- count 시간에 따른 따릉이 대여 수"
   ]
  },
  {
   "cell_type": "code",
   "execution_count": 91,
   "id": "4ebb3d21",
   "metadata": {
    "executionInfo": {
     "elapsed": 409,
     "status": "ok",
     "timestamp": 1645790012428,
     "user": {
      "displayName": "손찬우",
      "photoUrl": "https://lh3.googleusercontent.com/a/default-user=s64",
      "userId": "09923606150595330905"
     },
     "user_tz": -540
    },
    "id": "4ebb3d21"
   },
   "outputs": [],
   "source": [
    "import pandas as pd\n",
    "import numpy as np\n",
    "import matplotlib.pyplot as plt\n",
    "import seaborn as sns\n",
    "from scipy.stats import skew\n",
    "from sklearn.cluster import KMeans"
   ]
  },
  {
   "cell_type": "code",
   "execution_count": 92,
   "id": "10a2b627",
   "metadata": {
    "executionInfo": {
     "elapsed": 3,
     "status": "ok",
     "timestamp": 1645790015141,
     "user": {
      "displayName": "손찬우",
      "photoUrl": "https://lh3.googleusercontent.com/a/default-user=s64",
      "userId": "09923606150595330905"
     },
     "user_tz": -540
    },
    "id": "10a2b627"
   },
   "outputs": [],
   "source": [
    "train = pd.read_csv('/content/drive/MyDrive/Practice/data/dacon_data/따릉이/train.csv')\n",
    "test = pd.read_csv('/content/drive/MyDrive/Practice/data/dacon_data/따릉이/test.csv')\n",
    "submission = pd.read_csv('/content/drive/MyDrive/Practice/data/dacon_data/따릉이/submission.csv')"
   ]
  },
  {
   "cell_type": "code",
   "execution_count": 94,
   "id": "7234c722",
   "metadata": {
    "colab": {
     "base_uri": "https://localhost:8080/",
     "height": 595
    },
    "executionInfo": {
     "elapsed": 415,
     "status": "ok",
     "timestamp": 1645790030739,
     "user": {
      "displayName": "손찬우",
      "photoUrl": "https://lh3.googleusercontent.com/a/default-user=s64",
      "userId": "09923606150595330905"
     },
     "user_tz": -540
    },
    "id": "7234c722",
    "outputId": "f23217a7-d080-432a-8aa1-6802d0146667"
   },
   "outputs": [
    {
     "name": "stdout",
     "output_type": "stream",
     "text": [
      "<class 'pandas.core.frame.DataFrame'>\n",
      "RangeIndex: 1459 entries, 0 to 1458\n",
      "Data columns (total 11 columns):\n",
      " #   Column                  Non-Null Count  Dtype  \n",
      "---  ------                  --------------  -----  \n",
      " 0   id                      1459 non-null   int64  \n",
      " 1   hour                    1459 non-null   int64  \n",
      " 2   hour_bef_temperature    1457 non-null   float64\n",
      " 3   hour_bef_precipitation  1457 non-null   float64\n",
      " 4   hour_bef_windspeed      1450 non-null   float64\n",
      " 5   hour_bef_humidity       1457 non-null   float64\n",
      " 6   hour_bef_visibility     1457 non-null   float64\n",
      " 7   hour_bef_ozone          1383 non-null   float64\n",
      " 8   hour_bef_pm10           1369 non-null   float64\n",
      " 9   hour_bef_pm2.5          1342 non-null   float64\n",
      " 10  count                   1459 non-null   float64\n",
      "dtypes: float64(9), int64(2)\n",
      "memory usage: 125.5 KB\n"
     ]
    },
    {
     "data": {
      "text/html": [
       "\n",
       "  <div id=\"df-22c2b2eb-5d43-4506-b83a-29928991d323\">\n",
       "    <div class=\"colab-df-container\">\n",
       "      <div>\n",
       "<style scoped>\n",
       "    .dataframe tbody tr th:only-of-type {\n",
       "        vertical-align: middle;\n",
       "    }\n",
       "\n",
       "    .dataframe tbody tr th {\n",
       "        vertical-align: top;\n",
       "    }\n",
       "\n",
       "    .dataframe thead th {\n",
       "        text-align: right;\n",
       "    }\n",
       "</style>\n",
       "<table border=\"1\" class=\"dataframe\">\n",
       "  <thead>\n",
       "    <tr style=\"text-align: right;\">\n",
       "      <th></th>\n",
       "      <th>id</th>\n",
       "      <th>hour</th>\n",
       "      <th>hour_bef_temperature</th>\n",
       "      <th>hour_bef_precipitation</th>\n",
       "      <th>hour_bef_windspeed</th>\n",
       "      <th>hour_bef_humidity</th>\n",
       "      <th>hour_bef_visibility</th>\n",
       "      <th>hour_bef_ozone</th>\n",
       "      <th>hour_bef_pm10</th>\n",
       "      <th>hour_bef_pm2.5</th>\n",
       "      <th>count</th>\n",
       "    </tr>\n",
       "  </thead>\n",
       "  <tbody>\n",
       "    <tr>\n",
       "      <th>1454</th>\n",
       "      <td>2174</td>\n",
       "      <td>4</td>\n",
       "      <td>16.8</td>\n",
       "      <td>0.0</td>\n",
       "      <td>1.6</td>\n",
       "      <td>53.0</td>\n",
       "      <td>2000.0</td>\n",
       "      <td>0.031</td>\n",
       "      <td>37.0</td>\n",
       "      <td>27.0</td>\n",
       "      <td>21.0</td>\n",
       "    </tr>\n",
       "    <tr>\n",
       "      <th>1455</th>\n",
       "      <td>2175</td>\n",
       "      <td>3</td>\n",
       "      <td>10.8</td>\n",
       "      <td>0.0</td>\n",
       "      <td>3.8</td>\n",
       "      <td>45.0</td>\n",
       "      <td>2000.0</td>\n",
       "      <td>0.039</td>\n",
       "      <td>34.0</td>\n",
       "      <td>19.0</td>\n",
       "      <td>20.0</td>\n",
       "    </tr>\n",
       "    <tr>\n",
       "      <th>1456</th>\n",
       "      <td>2176</td>\n",
       "      <td>5</td>\n",
       "      <td>18.3</td>\n",
       "      <td>0.0</td>\n",
       "      <td>1.9</td>\n",
       "      <td>54.0</td>\n",
       "      <td>2000.0</td>\n",
       "      <td>0.009</td>\n",
       "      <td>30.0</td>\n",
       "      <td>21.0</td>\n",
       "      <td>22.0</td>\n",
       "    </tr>\n",
       "    <tr>\n",
       "      <th>1457</th>\n",
       "      <td>2178</td>\n",
       "      <td>21</td>\n",
       "      <td>20.7</td>\n",
       "      <td>0.0</td>\n",
       "      <td>3.7</td>\n",
       "      <td>37.0</td>\n",
       "      <td>1395.0</td>\n",
       "      <td>0.082</td>\n",
       "      <td>71.0</td>\n",
       "      <td>36.0</td>\n",
       "      <td>216.0</td>\n",
       "    </tr>\n",
       "    <tr>\n",
       "      <th>1458</th>\n",
       "      <td>2179</td>\n",
       "      <td>17</td>\n",
       "      <td>21.1</td>\n",
       "      <td>0.0</td>\n",
       "      <td>3.1</td>\n",
       "      <td>47.0</td>\n",
       "      <td>1973.0</td>\n",
       "      <td>0.046</td>\n",
       "      <td>38.0</td>\n",
       "      <td>17.0</td>\n",
       "      <td>170.0</td>\n",
       "    </tr>\n",
       "  </tbody>\n",
       "</table>\n",
       "</div>\n",
       "      <button class=\"colab-df-convert\" onclick=\"convertToInteractive('df-22c2b2eb-5d43-4506-b83a-29928991d323')\"\n",
       "              title=\"Convert this dataframe to an interactive table.\"\n",
       "              style=\"display:none;\">\n",
       "        \n",
       "  <svg xmlns=\"http://www.w3.org/2000/svg\" height=\"24px\"viewBox=\"0 0 24 24\"\n",
       "       width=\"24px\">\n",
       "    <path d=\"M0 0h24v24H0V0z\" fill=\"none\"/>\n",
       "    <path d=\"M18.56 5.44l.94 2.06.94-2.06 2.06-.94-2.06-.94-.94-2.06-.94 2.06-2.06.94zm-11 1L8.5 8.5l.94-2.06 2.06-.94-2.06-.94L8.5 2.5l-.94 2.06-2.06.94zm10 10l.94 2.06.94-2.06 2.06-.94-2.06-.94-.94-2.06-.94 2.06-2.06.94z\"/><path d=\"M17.41 7.96l-1.37-1.37c-.4-.4-.92-.59-1.43-.59-.52 0-1.04.2-1.43.59L10.3 9.45l-7.72 7.72c-.78.78-.78 2.05 0 2.83L4 21.41c.39.39.9.59 1.41.59.51 0 1.02-.2 1.41-.59l7.78-7.78 2.81-2.81c.8-.78.8-2.07 0-2.86zM5.41 20L4 18.59l7.72-7.72 1.47 1.35L5.41 20z\"/>\n",
       "  </svg>\n",
       "      </button>\n",
       "      \n",
       "  <style>\n",
       "    .colab-df-container {\n",
       "      display:flex;\n",
       "      flex-wrap:wrap;\n",
       "      gap: 12px;\n",
       "    }\n",
       "\n",
       "    .colab-df-convert {\n",
       "      background-color: #E8F0FE;\n",
       "      border: none;\n",
       "      border-radius: 50%;\n",
       "      cursor: pointer;\n",
       "      display: none;\n",
       "      fill: #1967D2;\n",
       "      height: 32px;\n",
       "      padding: 0 0 0 0;\n",
       "      width: 32px;\n",
       "    }\n",
       "\n",
       "    .colab-df-convert:hover {\n",
       "      background-color: #E2EBFA;\n",
       "      box-shadow: 0px 1px 2px rgba(60, 64, 67, 0.3), 0px 1px 3px 1px rgba(60, 64, 67, 0.15);\n",
       "      fill: #174EA6;\n",
       "    }\n",
       "\n",
       "    [theme=dark] .colab-df-convert {\n",
       "      background-color: #3B4455;\n",
       "      fill: #D2E3FC;\n",
       "    }\n",
       "\n",
       "    [theme=dark] .colab-df-convert:hover {\n",
       "      background-color: #434B5C;\n",
       "      box-shadow: 0px 1px 3px 1px rgba(0, 0, 0, 0.15);\n",
       "      filter: drop-shadow(0px 1px 2px rgba(0, 0, 0, 0.3));\n",
       "      fill: #FFFFFF;\n",
       "    }\n",
       "  </style>\n",
       "\n",
       "      <script>\n",
       "        const buttonEl =\n",
       "          document.querySelector('#df-22c2b2eb-5d43-4506-b83a-29928991d323 button.colab-df-convert');\n",
       "        buttonEl.style.display =\n",
       "          google.colab.kernel.accessAllowed ? 'block' : 'none';\n",
       "\n",
       "        async function convertToInteractive(key) {\n",
       "          const element = document.querySelector('#df-22c2b2eb-5d43-4506-b83a-29928991d323');\n",
       "          const dataTable =\n",
       "            await google.colab.kernel.invokeFunction('convertToInteractive',\n",
       "                                                     [key], {});\n",
       "          if (!dataTable) return;\n",
       "\n",
       "          const docLinkHtml = 'Like what you see? Visit the ' +\n",
       "            '<a target=\"_blank\" href=https://colab.research.google.com/notebooks/data_table.ipynb>data table notebook</a>'\n",
       "            + ' to learn more about interactive tables.';\n",
       "          element.innerHTML = '';\n",
       "          dataTable['output_type'] = 'display_data';\n",
       "          await google.colab.output.renderOutput(dataTable, element);\n",
       "          const docLink = document.createElement('div');\n",
       "          docLink.innerHTML = docLinkHtml;\n",
       "          element.appendChild(docLink);\n",
       "        }\n",
       "      </script>\n",
       "    </div>\n",
       "  </div>\n",
       "  "
      ],
      "text/plain": [
       "        id  hour  hour_bef_temperature  ...  hour_bef_pm10  hour_bef_pm2.5  count\n",
       "1454  2174     4                  16.8  ...           37.0            27.0   21.0\n",
       "1455  2175     3                  10.8  ...           34.0            19.0   20.0\n",
       "1456  2176     5                  18.3  ...           30.0            21.0   22.0\n",
       "1457  2178    21                  20.7  ...           71.0            36.0  216.0\n",
       "1458  2179    17                  21.1  ...           38.0            17.0  170.0\n",
       "\n",
       "[5 rows x 11 columns]"
      ]
     },
     "execution_count": 94,
     "metadata": {},
     "output_type": "execute_result"
    }
   ],
   "source": [
    "train.info()\n",
    "train.tail()"
   ]
  },
  {
   "cell_type": "code",
   "execution_count": 95,
   "id": "b14b7347",
   "metadata": {
    "executionInfo": {
     "elapsed": 389,
     "status": "ok",
     "timestamp": 1645790033459,
     "user": {
      "displayName": "손찬우",
      "photoUrl": "https://lh3.googleusercontent.com/a/default-user=s64",
      "userId": "09923606150595330905"
     },
     "user_tz": -540
    },
    "id": "b14b7347"
   },
   "outputs": [],
   "source": [
    "experi = train.dropna(axis = 0) # 결측치 없는 애들 모으기"
   ]
  },
  {
   "cell_type": "code",
   "execution_count": 96,
   "id": "c1fbc0a3",
   "metadata": {
    "colab": {
     "base_uri": "https://localhost:8080/",
     "height": 290
    },
    "executionInfo": {
     "elapsed": 4426,
     "status": "ok",
     "timestamp": 1645790039047,
     "user": {
      "displayName": "손찬우",
      "photoUrl": "https://lh3.googleusercontent.com/a/default-user=s64",
      "userId": "09923606150595330905"
     },
     "user_tz": -540
    },
    "id": "c1fbc0a3",
    "outputId": "59daf11c-3e97-426c-bf42-676fad5f8b96"
   },
   "outputs": [
    {
     "data": {
      "image/png": "[encoded data removed]",
      "text/plain": [
       "<Figure size 432x288 with 1 Axes>"
      ]
     },
     "metadata": {
      "needs_background": "light"
     },
     "output_type": "display_data"
    }
   ],
   "source": [
    "inertia = [] # 그래프가 가장 많이 꺾이는 부분 \n",
    "for k in range(2,10):\n",
    "    km = KMeans(n_clusters=k, random_state=42)\n",
    "    km.fit(experi)\n",
    "    inertia.append(km.inertia_)\n",
    "plt.plot(range(2, 10), inertia)\n",
    "plt.xlabel('k')\n",
    "plt.ylabel('inertia')\n",
    "plt.show()"
   ]
  },
  {
   "cell_type": "code",
   "execution_count": 97,
   "id": "5f673820",
   "metadata": {
    "colab": {
     "base_uri": "https://localhost:8080/"
    },
    "executionInfo": {
     "elapsed": 520,
     "status": "ok",
     "timestamp": 1645790039560,
     "user": {
      "displayName": "손찬우",
      "photoUrl": "https://lh3.googleusercontent.com/a/default-user=s64",
      "userId": "09923606150595330905"
     },
     "user_tz": -540
    },
    "id": "5f673820",
    "outputId": "92128852-f8c2-4028-8698-4fafae3367aa"
   },
   "outputs": [
    {
     "data": {
      "text/plain": [
       "KMeans(n_clusters=4, random_state=42)"
      ]
     },
     "execution_count": 97,
     "metadata": {},
     "output_type": "execute_result"
    }
   ],
   "source": [
    "km = KMeans(n_clusters= 4, random_state=42)\n",
    "km.fit(experi)"
   ]
  },
  {
   "cell_type": "code",
   "execution_count": 98,
   "id": "24246ddc",
   "metadata": {
    "colab": {
     "base_uri": "https://localhost:8080/"
    },
    "executionInfo": {
     "elapsed": 385,
     "status": "ok",
     "timestamp": 1645790041748,
     "user": {
      "displayName": "손찬우",
      "photoUrl": "https://lh3.googleusercontent.com/a/default-user=s64",
      "userId": "09923606150595330905"
     },
     "user_tz": -540
    },
    "id": "24246ddc",
    "outputId": "d056e591-8d0a-43e0-ba49-e0395e39729b"
   },
   "outputs": [
    {
     "name": "stderr",
     "output_type": "stream",
     "text": [
      "/usr/local/lib/python3.7/dist-packages/ipykernel_launcher.py:1: SettingWithCopyWarning: \n",
      "A value is trying to be set on a copy of a slice from a DataFrame.\n",
      "Try using .loc[row_indexer,col_indexer] = value instead\n",
      "\n",
      "See the caveats in the documentation: https://pandas.pydata.org/pandas-docs/stable/user_guide/indexing.html#returning-a-view-versus-a-copy\n",
      "  \"\"\"Entry point for launching an IPython kernel.\n"
     ]
    }
   ],
   "source": [
    "experi['cluster_id'] = km.labels_"
   ]
  },
  {
   "cell_type": "code",
   "execution_count": 99,
   "id": "f813db44",
   "metadata": {
    "colab": {
     "base_uri": "https://localhost:8080/"
    },
    "executionInfo": {
     "elapsed": 393,
     "status": "ok",
     "timestamp": 1645790046571,
     "user": {
      "displayName": "손찬우",
      "photoUrl": "https://lh3.googleusercontent.com/a/default-user=s64",
      "userId": "09923606150595330905"
     },
     "user_tz": -540
    },
    "id": "f813db44",
    "outputId": "c479087c-6377-469f-9efa-77b0170b700c"
   },
   "outputs": [
    {
     "name": "stdout",
     "output_type": "stream",
     "text": [
      "<class 'pandas.core.frame.DataFrame'>\n",
      "RangeIndex: 1459 entries, 0 to 1458\n",
      "Data columns (total 11 columns):\n",
      " #   Column                  Non-Null Count  Dtype  \n",
      "---  ------                  --------------  -----  \n",
      " 0   id                      1459 non-null   int64  \n",
      " 1   hour                    1459 non-null   int64  \n",
      " 2   hour_bef_temperature    1457 non-null   float64\n",
      " 3   hour_bef_precipitation  1457 non-null   float64\n",
      " 4   hour_bef_windspeed      1450 non-null   float64\n",
      " 5   hour_bef_humidity       1457 non-null   float64\n",
      " 6   hour_bef_visibility     1457 non-null   float64\n",
      " 7   hour_bef_ozone          1383 non-null   float64\n",
      " 8   hour_bef_pm10           1369 non-null   float64\n",
      " 9   hour_bef_pm2.5          1342 non-null   float64\n",
      " 10  count                   1459 non-null   float64\n",
      "dtypes: float64(9), int64(2)\n",
      "memory usage: 125.5 KB\n"
     ]
    }
   ],
   "source": [
    "train.info()"
   ]
  },
  {
   "cell_type": "markdown",
   "id": "a100ba19",
   "metadata": {
    "id": "a100ba19"
   },
   "source": [
    "##### 피쳐의 요소가 전부 Nan 값인 특징을 가진 데이터를 뽑아내고 그 데이터의 최빈 값과  클러스터 0,1,2,3으로 묶은 값의 최빈 값들의 차의 합이 가장 작은 묶음 번호 찾기"
   ]
  },
  {
   "cell_type": "code",
   "execution_count": 100,
   "id": "ca24fa84",
   "metadata": {
    "executionInfo": {
     "elapsed": 1033,
     "status": "ok",
     "timestamp": 1645790052796,
     "user": {
      "displayName": "손찬우",
      "photoUrl": "https://lh3.googleusercontent.com/a/default-user=s64",
      "userId": "09923606150595330905"
     },
     "user_tz": -540
    },
    "id": "ca24fa84"
   },
   "outputs": [],
   "source": [
    "features = ['hour_bef_temperature','hour_bef_precipitation',\n",
    "            'hour_bef_windspeed','hour_bef_humidity',\n",
    "            'hour_bef_visibility','hour_bef_ozone','hour_bef_pm10',\n",
    "           'hour_bef_pm2.5']\n",
    "arr = []\n",
    "for i in features:\n",
    "    x = train.copy()\n",
    "    x = x[x[i].isnull()].mode()\n",
    "    x = x.drop(i,axis = 1).iloc[0]\n",
    "    x = x.fillna(0)\n",
    "    middle = []\n",
    "    for j in range(4):\n",
    "        y = experi.copy()\n",
    "        y = experi[experi['cluster_id']==j].mode()\n",
    "        y = y.drop(i,axis = 1)\n",
    "        y = y.drop('cluster_id',axis = 1).iloc[0]\n",
    "        total = 0\n",
    "        for a, b in zip(x,y):\n",
    "            total += abs(a-b)\n",
    "        middle.append([total,j,i])\n",
    "    arr.append(min(middle))"
   ]
  },
  {
   "cell_type": "code",
   "execution_count": 101,
   "id": "a22bbd21",
   "metadata": {
    "colab": {
     "base_uri": "https://localhost:8080/"
    },
    "executionInfo": {
     "elapsed": 376,
     "status": "ok",
     "timestamp": 1645790055134,
     "user": {
      "displayName": "손찬우",
      "photoUrl": "https://lh3.googleusercontent.com/a/default-user=s64",
      "userId": "09923606150595330905"
     },
     "user_tz": -540
    },
    "id": "a22bbd21",
    "outputId": "4f483f67-1562-4eb9-b6bd-b2dd61ff730f"
   },
   "outputs": [
    {
     "data": {
      "text/plain": [
       "[[1485.016, 1, 'hour_bef_temperature'],\n",
       " [1498.4160000000002, 1, 'hour_bef_precipitation'],\n",
       " [217.405, 0, 'hour_bef_windspeed'],\n",
       " [1422.4160000000002, 1, 'hour_bef_humidity'],\n",
       " [499.736, 3, 'hour_bef_visibility'],\n",
       " [188.0, 0, 'hour_bef_ozone'],\n",
       " [199.005, 0, 'hour_bef_pm10'],\n",
       " [184.21800000000002, 0, 'hour_bef_pm2.5']]"
      ]
     },
     "execution_count": 101,
     "metadata": {},
     "output_type": "execute_result"
    }
   ],
   "source": [
    "arr"
   ]
  },
  {
   "cell_type": "code",
   "execution_count": 111,
   "id": "8a51aede",
   "metadata": {
    "colab": {
     "base_uri": "https://localhost:8080/",
     "height": 488
    },
    "executionInfo": {
     "elapsed": 551,
     "status": "ok",
     "timestamp": 1645791899647,
     "user": {
      "displayName": "손찬우",
      "photoUrl": "https://lh3.googleusercontent.com/a/default-user=s64",
      "userId": "09923606150595330905"
     },
     "user_tz": -540
    },
    "id": "8a51aede",
    "outputId": "19125281-5d75-4fa9-98a5-27cfd171a9db"
   },
   "outputs": [
    {
     "data": {
      "text/html": [
       "\n",
       "  <div id=\"df-485f707f-c1a0-46ce-b918-72b91ea06321\">\n",
       "    <div class=\"colab-df-container\">\n",
       "      <div>\n",
       "<style scoped>\n",
       "    .dataframe tbody tr th:only-of-type {\n",
       "        vertical-align: middle;\n",
       "    }\n",
       "\n",
       "    .dataframe tbody tr th {\n",
       "        vertical-align: top;\n",
       "    }\n",
       "\n",
       "    .dataframe thead th {\n",
       "        text-align: right;\n",
       "    }\n",
       "</style>\n",
       "<table border=\"1\" class=\"dataframe\">\n",
       "  <thead>\n",
       "    <tr style=\"text-align: right;\">\n",
       "      <th></th>\n",
       "      <th>id</th>\n",
       "      <th>hour</th>\n",
       "      <th>hour_bef_temperature</th>\n",
       "      <th>hour_bef_precipitation</th>\n",
       "      <th>hour_bef_windspeed</th>\n",
       "      <th>hour_bef_humidity</th>\n",
       "      <th>hour_bef_visibility</th>\n",
       "      <th>hour_bef_ozone</th>\n",
       "      <th>hour_bef_pm10</th>\n",
       "      <th>hour_bef_pm2.5</th>\n",
       "      <th>count</th>\n",
       "      <th>cluster_id</th>\n",
       "    </tr>\n",
       "  </thead>\n",
       "  <tbody>\n",
       "    <tr>\n",
       "      <th>0</th>\n",
       "      <td>1121</td>\n",
       "      <td>9.0</td>\n",
       "      <td>13.4</td>\n",
       "      <td>0.0</td>\n",
       "      <td>2.0</td>\n",
       "      <td>76.0</td>\n",
       "      <td>990.0</td>\n",
       "      <td>0.016</td>\n",
       "      <td>58.0</td>\n",
       "      <td>38.0</td>\n",
       "      <td>14.0</td>\n",
       "      <td>1.0</td>\n",
       "    </tr>\n",
       "    <tr>\n",
       "      <th>1</th>\n",
       "      <td>1123</td>\n",
       "      <td>NaN</td>\n",
       "      <td>NaN</td>\n",
       "      <td>NaN</td>\n",
       "      <td>NaN</td>\n",
       "      <td>NaN</td>\n",
       "      <td>NaN</td>\n",
       "      <td>NaN</td>\n",
       "      <td>75.0</td>\n",
       "      <td>NaN</td>\n",
       "      <td>NaN</td>\n",
       "      <td>NaN</td>\n",
       "    </tr>\n",
       "    <tr>\n",
       "      <th>2</th>\n",
       "      <td>1130</td>\n",
       "      <td>NaN</td>\n",
       "      <td>NaN</td>\n",
       "      <td>NaN</td>\n",
       "      <td>NaN</td>\n",
       "      <td>NaN</td>\n",
       "      <td>NaN</td>\n",
       "      <td>NaN</td>\n",
       "      <td>NaN</td>\n",
       "      <td>NaN</td>\n",
       "      <td>NaN</td>\n",
       "      <td>NaN</td>\n",
       "    </tr>\n",
       "    <tr>\n",
       "      <th>3</th>\n",
       "      <td>1136</td>\n",
       "      <td>NaN</td>\n",
       "      <td>NaN</td>\n",
       "      <td>NaN</td>\n",
       "      <td>NaN</td>\n",
       "      <td>NaN</td>\n",
       "      <td>NaN</td>\n",
       "      <td>NaN</td>\n",
       "      <td>NaN</td>\n",
       "      <td>NaN</td>\n",
       "      <td>NaN</td>\n",
       "      <td>NaN</td>\n",
       "    </tr>\n",
       "    <tr>\n",
       "      <th>4</th>\n",
       "      <td>1137</td>\n",
       "      <td>NaN</td>\n",
       "      <td>NaN</td>\n",
       "      <td>NaN</td>\n",
       "      <td>NaN</td>\n",
       "      <td>NaN</td>\n",
       "      <td>NaN</td>\n",
       "      <td>NaN</td>\n",
       "      <td>NaN</td>\n",
       "      <td>NaN</td>\n",
       "      <td>NaN</td>\n",
       "      <td>NaN</td>\n",
       "    </tr>\n",
       "    <tr>\n",
       "      <th>...</th>\n",
       "      <td>...</td>\n",
       "      <td>...</td>\n",
       "      <td>...</td>\n",
       "      <td>...</td>\n",
       "      <td>...</td>\n",
       "      <td>...</td>\n",
       "      <td>...</td>\n",
       "      <td>...</td>\n",
       "      <td>...</td>\n",
       "      <td>...</td>\n",
       "      <td>...</td>\n",
       "      <td>...</td>\n",
       "    </tr>\n",
       "    <tr>\n",
       "      <th>268</th>\n",
       "      <td>2158</td>\n",
       "      <td>NaN</td>\n",
       "      <td>NaN</td>\n",
       "      <td>NaN</td>\n",
       "      <td>NaN</td>\n",
       "      <td>NaN</td>\n",
       "      <td>NaN</td>\n",
       "      <td>NaN</td>\n",
       "      <td>NaN</td>\n",
       "      <td>NaN</td>\n",
       "      <td>NaN</td>\n",
       "      <td>NaN</td>\n",
       "    </tr>\n",
       "    <tr>\n",
       "      <th>269</th>\n",
       "      <td>2161</td>\n",
       "      <td>NaN</td>\n",
       "      <td>NaN</td>\n",
       "      <td>NaN</td>\n",
       "      <td>NaN</td>\n",
       "      <td>NaN</td>\n",
       "      <td>NaN</td>\n",
       "      <td>NaN</td>\n",
       "      <td>NaN</td>\n",
       "      <td>NaN</td>\n",
       "      <td>NaN</td>\n",
       "      <td>NaN</td>\n",
       "    </tr>\n",
       "    <tr>\n",
       "      <th>270</th>\n",
       "      <td>2168</td>\n",
       "      <td>NaN</td>\n",
       "      <td>NaN</td>\n",
       "      <td>NaN</td>\n",
       "      <td>NaN</td>\n",
       "      <td>NaN</td>\n",
       "      <td>NaN</td>\n",
       "      <td>NaN</td>\n",
       "      <td>NaN</td>\n",
       "      <td>NaN</td>\n",
       "      <td>NaN</td>\n",
       "      <td>NaN</td>\n",
       "    </tr>\n",
       "    <tr>\n",
       "      <th>271</th>\n",
       "      <td>2171</td>\n",
       "      <td>NaN</td>\n",
       "      <td>NaN</td>\n",
       "      <td>NaN</td>\n",
       "      <td>NaN</td>\n",
       "      <td>NaN</td>\n",
       "      <td>NaN</td>\n",
       "      <td>NaN</td>\n",
       "      <td>NaN</td>\n",
       "      <td>NaN</td>\n",
       "      <td>NaN</td>\n",
       "      <td>NaN</td>\n",
       "    </tr>\n",
       "    <tr>\n",
       "      <th>272</th>\n",
       "      <td>2173</td>\n",
       "      <td>NaN</td>\n",
       "      <td>NaN</td>\n",
       "      <td>NaN</td>\n",
       "      <td>NaN</td>\n",
       "      <td>NaN</td>\n",
       "      <td>NaN</td>\n",
       "      <td>NaN</td>\n",
       "      <td>NaN</td>\n",
       "      <td>NaN</td>\n",
       "      <td>NaN</td>\n",
       "      <td>NaN</td>\n",
       "    </tr>\n",
       "  </tbody>\n",
       "</table>\n",
       "<p>273 rows × 12 columns</p>\n",
       "</div>\n",
       "      <button class=\"colab-df-convert\" onclick=\"convertToInteractive('df-485f707f-c1a0-46ce-b918-72b91ea06321')\"\n",
       "              title=\"Convert this dataframe to an interactive table.\"\n",
       "              style=\"display:none;\">\n",
       "        \n",
       "  <svg xmlns=\"http://www.w3.org/2000/svg\" height=\"24px\"viewBox=\"0 0 24 24\"\n",
       "       width=\"24px\">\n",
       "    <path d=\"M0 0h24v24H0V0z\" fill=\"none\"/>\n",
       "    <path d=\"M18.56 5.44l.94 2.06.94-2.06 2.06-.94-2.06-.94-.94-2.06-.94 2.06-2.06.94zm-11 1L8.5 8.5l.94-2.06 2.06-.94-2.06-.94L8.5 2.5l-.94 2.06-2.06.94zm10 10l.94 2.06.94-2.06 2.06-.94-2.06-.94-.94-2.06-.94 2.06-2.06.94z\"/><path d=\"M17.41 7.96l-1.37-1.37c-.4-.4-.92-.59-1.43-.59-.52 0-1.04.2-1.43.59L10.3 9.45l-7.72 7.72c-.78.78-.78 2.05 0 2.83L4 21.41c.39.39.9.59 1.41.59.51 0 1.02-.2 1.41-.59l7.78-7.78 2.81-2.81c.8-.78.8-2.07 0-2.86zM5.41 20L4 18.59l7.72-7.72 1.47 1.35L5.41 20z\"/>\n",
       "  </svg>\n",
       "      </button>\n",
       "      \n",
       "  <style>\n",
       "    .colab-df-container {\n",
       "      display:flex;\n",
       "      flex-wrap:wrap;\n",
       "      gap: 12px;\n",
       "    }\n",
       "\n",
       "    .colab-df-convert {\n",
       "      background-color: #E8F0FE;\n",
       "      border: none;\n",
       "      border-radius: 50%;\n",
       "      cursor: pointer;\n",
       "      display: none;\n",
       "      fill: #1967D2;\n",
       "      height: 32px;\n",
       "      padding: 0 0 0 0;\n",
       "      width: 32px;\n",
       "    }\n",
       "\n",
       "    .colab-df-convert:hover {\n",
       "      background-color: #E2EBFA;\n",
       "      box-shadow: 0px 1px 2px rgba(60, 64, 67, 0.3), 0px 1px 3px 1px rgba(60, 64, 67, 0.15);\n",
       "      fill: #174EA6;\n",
       "    }\n",
       "\n",
       "    [theme=dark] .colab-df-convert {\n",
       "      background-color: #3B4455;\n",
       "      fill: #D2E3FC;\n",
       "    }\n",
       "\n",
       "    [theme=dark] .colab-df-convert:hover {\n",
       "      background-color: #434B5C;\n",
       "      box-shadow: 0px 1px 3px 1px rgba(0, 0, 0, 0.15);\n",
       "      filter: drop-shadow(0px 1px 2px rgba(0, 0, 0, 0.3));\n",
       "      fill: #FFFFFF;\n",
       "    }\n",
       "  </style>\n",
       "\n",
       "      <script>\n",
       "        const buttonEl =\n",
       "          document.querySelector('#df-485f707f-c1a0-46ce-b918-72b91ea06321 button.colab-df-convert');\n",
       "        buttonEl.style.display =\n",
       "          google.colab.kernel.accessAllowed ? 'block' : 'none';\n",
       "\n",
       "        async function convertToInteractive(key) {\n",
       "          const element = document.querySelector('#df-485f707f-c1a0-46ce-b918-72b91ea06321');\n",
       "          const dataTable =\n",
       "            await google.colab.kernel.invokeFunction('convertToInteractive',\n",
       "                                                     [key], {});\n",
       "          if (!dataTable) return;\n",
       "\n",
       "          const docLinkHtml = 'Like what you see? Visit the ' +\n",
       "            '<a target=\"_blank\" href=https://colab.research.google.com/notebooks/data_table.ipynb>data table notebook</a>'\n",
       "            + ' to learn more about interactive tables.';\n",
       "          element.innerHTML = '';\n",
       "          dataTable['output_type'] = 'display_data';\n",
       "          await google.colab.output.renderOutput(dataTable, element);\n",
       "          const docLink = document.createElement('div');\n",
       "          docLink.innerHTML = docLinkHtml;\n",
       "          element.appendChild(docLink);\n",
       "        }\n",
       "      </script>\n",
       "    </div>\n",
       "  </div>\n",
       "  "
      ],
      "text/plain": [
       "       id  hour  hour_bef_temperature  ...  hour_bef_pm2.5  count  cluster_id\n",
       "0    1121   9.0                  13.4  ...            38.0   14.0         1.0\n",
       "1    1123   NaN                   NaN  ...             NaN    NaN         NaN\n",
       "2    1130   NaN                   NaN  ...             NaN    NaN         NaN\n",
       "3    1136   NaN                   NaN  ...             NaN    NaN         NaN\n",
       "4    1137   NaN                   NaN  ...             NaN    NaN         NaN\n",
       "..    ...   ...                   ...  ...             ...    ...         ...\n",
       "268  2158   NaN                   NaN  ...             NaN    NaN         NaN\n",
       "269  2161   NaN                   NaN  ...             NaN    NaN         NaN\n",
       "270  2168   NaN                   NaN  ...             NaN    NaN         NaN\n",
       "271  2171   NaN                   NaN  ...             NaN    NaN         NaN\n",
       "272  2173   NaN                   NaN  ...             NaN    NaN         NaN\n",
       "\n",
       "[273 rows x 12 columns]"
      ]
     },
     "execution_count": 111,
     "metadata": {},
     "output_type": "execute_result"
    }
   ],
   "source": [
    "experi[experi['cluster_id']==1].mode()"
   ]
  },
  {
   "cell_type": "code",
   "execution_count": 103,
   "id": "64a5d1f6",
   "metadata": {
    "executionInfo": {
     "elapsed": 528,
     "status": "ok",
     "timestamp": 1645790063807,
     "user": {
      "displayName": "손찬우",
      "photoUrl": "https://lh3.googleusercontent.com/a/default-user=s64",
      "userId": "09923606150595330905"
     },
     "user_tz": -540
    },
    "id": "64a5d1f6"
   },
   "outputs": [],
   "source": [
    "train['hour_bef_temperature'].fillna(13.4,inplace=True)\n",
    "train['hour_bef_precipitation'].fillna(0.0,inplace=True)\n",
    "train['hour_bef_windspeed'].fillna(2.0,inplace = True)\n",
    "train['hour_bef_humidity'].fillna(76.0,inplace=True)\n",
    "train['hour_bef_visibility'].fillna(2000.0,inplace=True)\n",
    "train['hour_bef_ozone'].fillna(0.039,inplace=True)\n",
    "train['hour_bef_pm10'].fillna(32.0,inplace=True)\n",
    "train['hour_bef_pm2.5'].fillna(19.0,inplace=True)"
   ]
  },
  {
   "cell_type": "code",
   "execution_count": 104,
   "id": "8da34086",
   "metadata": {
    "colab": {
     "base_uri": "https://localhost:8080/"
    },
    "executionInfo": {
     "elapsed": 381,
     "status": "ok",
     "timestamp": 1645790066471,
     "user": {
      "displayName": "손찬우",
      "photoUrl": "https://lh3.googleusercontent.com/a/default-user=s64",
      "userId": "09923606150595330905"
     },
     "user_tz": -540
    },
    "id": "8da34086",
    "outputId": "9d9795e7-41cf-43c1-bc36-b7fc82eaf7bd"
   },
   "outputs": [
    {
     "name": "stdout",
     "output_type": "stream",
     "text": [
      "<class 'pandas.core.frame.DataFrame'>\n",
      "RangeIndex: 1459 entries, 0 to 1458\n",
      "Data columns (total 11 columns):\n",
      " #   Column                  Non-Null Count  Dtype  \n",
      "---  ------                  --------------  -----  \n",
      " 0   id                      1459 non-null   int64  \n",
      " 1   hour                    1459 non-null   int64  \n",
      " 2   hour_bef_temperature    1459 non-null   float64\n",
      " 3   hour_bef_precipitation  1459 non-null   float64\n",
      " 4   hour_bef_windspeed      1459 non-null   float64\n",
      " 5   hour_bef_humidity       1459 non-null   float64\n",
      " 6   hour_bef_visibility     1459 non-null   float64\n",
      " 7   hour_bef_ozone          1459 non-null   float64\n",
      " 8   hour_bef_pm10           1459 non-null   float64\n",
      " 9   hour_bef_pm2.5          1459 non-null   float64\n",
      " 10  count                   1459 non-null   float64\n",
      "dtypes: float64(9), int64(2)\n",
      "memory usage: 125.5 KB\n"
     ]
    }
   ],
   "source": [
    "train.info()"
   ]
  },
  {
   "cell_type": "code",
   "execution_count": 105,
   "id": "bc0cbfe1",
   "metadata": {
    "colab": {
     "base_uri": "https://localhost:8080/",
     "height": 1000
    },
    "executionInfo": {
     "elapsed": 1467,
     "status": "ok",
     "timestamp": 1645790072354,
     "user": {
      "displayName": "손찬우",
      "photoUrl": "https://lh3.googleusercontent.com/a/default-user=s64",
      "userId": "09923606150595330905"
     },
     "user_tz": -540
    },
    "id": "bc0cbfe1",
    "outputId": "79ef887a-f79b-4c74-dc64-d1803e051da9"
   },
   "outputs": [
    {
     "name": "stdout",
     "output_type": "stream",
     "text": [
      "id\n"
     ]
    },
    {
     "data": {
      "image/png": "[encoded data removed]",
      "text/plain": [
       "<Figure size 432x288 with 1 Axes>"
      ]
     },
     "metadata": {
      "needs_background": "light"
     },
     "output_type": "display_data"
    },
    {
     "name": "stdout",
     "output_type": "stream",
     "text": [
      "hour\n"
     ]
    },
    {
     "data": {
      "image/png": "[encoded data removed]",
      "text/plain": [
       "<Figure size 432x288 with 1 Axes>"
      ]
     },
     "metadata": {
      "needs_background": "light"
     },
     "output_type": "display_data"
    },
    {
     "name": "stdout",
     "output_type": "stream",
     "text": [
      "hour_bef_temperature\n"
     ]
    },
    {
     "data": {
      "image/png": "[encoded data removed]",
      "text/plain": [
       "<Figure size 432x288 with 1 Axes>"
      ]
     },
     "metadata": {
      "needs_background": "light"
     },
     "output_type": "display_data"
    },
    {
     "name": "stdout",
     "output_type": "stream",
     "text": [
      "hour_bef_precipitation\n"
     ]
    },
    {
     "data": {
      "image/png": "[encoded data removed]",
      "text/plain": [
       "<Figure size 432x288 with 1 Axes>"
      ]
     },
     "metadata": {
      "needs_background": "light"
     },
     "output_type": "display_data"
    },
    {
     "name": "stdout",
     "output_type": "stream",
     "text": [
      "hour_bef_windspeed\n"
     ]
    },
    {
     "data": {
      "image/png": "[encoded data removed]",
      "text/plain": [
       "<Figure size 432x288 with 1 Axes>"
      ]
     },
     "metadata": {
      "needs_background": "light"
     },
     "output_type": "display_data"
    },
    {
     "name": "stdout",
     "output_type": "stream",
     "text": [
      "hour_bef_humidity\n"
     ]
    },
    {
     "data": {
      "image/png": "[encoded data removed]",
      "text/plain": [
       "<Figure size 432x288 with 1 Axes>"
      ]
     },
     "metadata": {
      "needs_background": "light"
     },
     "output_type": "display_data"
    },
    {
     "name": "stdout",
     "output_type": "stream",
     "text": [
      "hour_bef_visibility\n"
     ]
    },
    {
     "data": {
      "image/png": "[encoded data removed]",
      "text/plain": [
       "<Figure size 432x288 with 1 Axes>"
      ]
     },
     "metadata": {
      "needs_background": "light"
     },
     "output_type": "display_data"
    },
    {
     "name": "stdout",
     "output_type": "stream",
     "text": [
      "hour_bef_ozone\n"
     ]
    },
    {
     "data": {
      "image/png": "[encoded data removed]",
      "text/plain": [
       "<Figure size 432x288 with 1 Axes>"
      ]
     },
     "metadata": {
      "needs_background": "light"
     },
     "output_type": "display_data"
    },
    {
     "name": "stdout",
     "output_type": "stream",
     "text": [
      "hour_bef_pm10\n"
     ]
    },
    {
     "data": {
      "image/png": "[encoded data removed]",
      "text/plain": [
       "<Figure size 432x288 with 1 Axes>"
      ]
     },
     "metadata": {
      "needs_background": "light"
     },
     "output_type": "display_data"
    },
    {
     "name": "stdout",
     "output_type": "stream",
     "text": [
      "hour_bef_pm2.5\n"
     ]
    },
    {
     "data": {
      "image/png": "[encoded data removed]",
      "text/plain": [
       "<Figure size 432x288 with 1 Axes>"
      ]
     },
     "metadata": {
      "needs_background": "light"
     },
     "output_type": "display_data"
    },
    {
     "name": "stdout",
     "output_type": "stream",
     "text": [
      "count\n"
     ]
    },
    {
     "data": {
      "image/png": "[encoded data removed]",
      "text/plain": [
       "<Figure size 432x288 with 1 Axes>"
      ]
     },
     "metadata": {
      "needs_background": "light"
     },
     "output_type": "display_data"
    }
   ],
   "source": [
    "for idx, feature in enumerate(train) :\n",
    "    print(feature)\n",
    "    sns.boxplot(data = train[feature])\n",
    "    plt.show()\n",
    "    plt.close()"
   ]
  },
  {
   "cell_type": "code",
   "execution_count": 106,
   "id": "925b2dfd",
   "metadata": {
    "executionInfo": {
     "elapsed": 374,
     "status": "ok",
     "timestamp": 1645790085360,
     "user": {
      "displayName": "손찬우",
      "photoUrl": "https://lh3.googleusercontent.com/a/default-user=s64",
      "userId": "09923606150595330905"
     },
     "user_tz": -540
    },
    "id": "925b2dfd"
   },
   "outputs": [],
   "source": [
    "def outlier(data):\n",
    "    q1, q3 = np.percentile(data,[25,75])\n",
    "    iqr = q3 - q1\n",
    "    lower_bound = q1 - 1.5*iqr\n",
    "    upper_bound = q3 + 1.5*iqr\n",
    "    return data[(data < lower_bound) | (data > upper_bound)].index"
   ]
  },
  {
   "cell_type": "code",
   "execution_count": 107,
   "id": "06d0639f",
   "metadata": {
    "colab": {
     "base_uri": "https://localhost:8080/"
    },
    "executionInfo": {
     "elapsed": 8,
     "status": "ok",
     "timestamp": 1645790087478,
     "user": {
      "displayName": "손찬우",
      "photoUrl": "https://lh3.googleusercontent.com/a/default-user=s64",
      "userId": "09923606150595330905"
     },
     "user_tz": -540
    },
    "id": "06d0639f",
    "outputId": "8ea2b03d-89d1-4a21-f422-2cf2974fc1c1",
    "scrolled": true
   },
   "outputs": [
    {
     "name": "stdout",
     "output_type": "stream",
     "text": [
      "Int64Index([141, 314, 325, 354, 369, 380, 831, 1118, 1293], dtype='int64')\n",
      "9\n",
      "\n",
      "Int64Index([ 117,  118,  292,  296,  362,  419,  501,  641,  675, 1008, 1107,\n",
      "            1215, 1222, 1293, 1427, 1430],\n",
      "           dtype='int64')\n",
      "\n",
      "Int64Index([  20,   49,   62,  120,  137,  183,  233,  234,  241,  278,  280,\n",
      "             287,  293,  343,  345,  349,  384,  413,  446,  453,  565,  574,\n",
      "             603,  617,  622,  653,  680,  691,  818,  831,  837,  877,  879,\n",
      "             905, 1010, 1041, 1059, 1061, 1066, 1099, 1118, 1155, 1197, 1214,\n",
      "            1226, 1263, 1279, 1296, 1303, 1354, 1379, 1383],\n",
      "           dtype='int64')\n",
      "\n",
      "Int64Index([   3,   13,   29,   60,  105,  106,  111,  149,  179,  186,  196,\n",
      "             197,  210,  229,  233,  237,  258,  285,  321,  365,  374,  377,\n",
      "             428,  462,  468,  475,  483,  497,  511,  533,  574,  622,  644,\n",
      "             678,  711,  792,  801,  802,  898,  899,  915,  924,  980,  986,\n",
      "            1014, 1023, 1025, 1051, 1062, 1092, 1125, 1132, 1148, 1151, 1155,\n",
      "            1159, 1180, 1191, 1242, 1303, 1311, 1321, 1328, 1341, 1385, 1402,\n",
      "            1415, 1422, 1451],\n",
      "           dtype='int64')\n",
      "69\n",
      "\n",
      "Int64Index([   4,   67,  107,  238,  245,  294,  402,  422,  448,  452,  499,\n",
      "             526,  531,  652,  654,  721,  803,  884, 1103, 1135, 1301, 1394,\n",
      "            1430],\n",
      "           dtype='int64')\n",
      "\n"
     ]
    }
   ],
   "source": [
    "outlier_index_hour_bef_windspeed = outlier(train.hour_bef_windspeed)\n",
    "print(outlier_index_hour_bef_windspeed)\n",
    "print(len(outlier_index_hour_bef_windspeed))\n",
    "print()\n",
    "outlier_index_hour_bef_ozone = outlier(train.hour_bef_ozone)\n",
    "print(outlier_index_hour_bef_ozone)\n",
    "print()\n",
    "outlier_index_hour_bef_pm10 = outlier(train['hour_bef_pm10'])\n",
    "print(outlier_index_hour_bef_pm10)\n",
    "print()\n",
    "outlier_index_hour_bef_pm2 = outlier(train['hour_bef_pm2.5'])\n",
    "print(outlier_index_hour_bef_pm2)\n",
    "print(len(outlier_index_hour_bef_pm2))\n",
    "print()\n",
    "outlier_index_count = outlier(train['count'])\n",
    "print(outlier_index_count)\n",
    "print()"
   ]
  },
  {
   "cell_type": "code",
   "execution_count": 108,
   "id": "bd515dea",
   "metadata": {
    "colab": {
     "base_uri": "https://localhost:8080/"
    },
    "executionInfo": {
     "elapsed": 414,
     "status": "ok",
     "timestamp": 1645790093242,
     "user": {
      "displayName": "손찬우",
      "photoUrl": "https://lh3.googleusercontent.com/a/default-user=s64",
      "userId": "09923606150595330905"
     },
     "user_tz": -540
    },
    "id": "bd515dea",
    "outputId": "9063ddac-3fd0-43cb-a7f3-9fe804ca2dec"
   },
   "outputs": [
    {
     "name": "stdout",
     "output_type": "stream",
     "text": [
      "id:-0.023425762918823995\n",
      "hour:0.0036552757086815526\n",
      "hour_bef_temperature:0.17727646358138585\n",
      "hour_bef_precipitation:5.361897626045212\n",
      "hour_bef_windspeed:0.566478374141825\n",
      "hour_bef_humidity:0.14635482520239282\n",
      "hour_bef_visibility:-0.4858136087755485\n",
      "hour_bef_ozone:0.40885491377682187\n",
      "hour_bef_pm10:2.4403675383757126\n",
      "hour_bef_pm2.5:1.4681465978636812\n",
      "count:0.9115952317125152\n"
     ]
    }
   ],
   "source": [
    "from scipy.stats import skew\n",
    "for i in train.columns:\n",
    "    print('{}:{}'.format(i,skew(train[i]))) #hour_bef_precipitation (비 유,무)"
   ]
  },
  {
   "cell_type": "code",
   "execution_count": 19,
   "id": "b1a9e802",
   "metadata": {
    "colab": {
     "base_uri": "https://localhost:8080/",
     "height": 364
    },
    "executionInfo": {
     "elapsed": 4,
     "status": "ok",
     "timestamp": 1645781487536,
     "user": {
      "displayName": "손찬우",
      "photoUrl": "https://lh3.googleusercontent.com/a/default-user=s64",
      "userId": "09923606150595330905"
     },
     "user_tz": -540
    },
    "id": "b1a9e802",
    "outputId": "ad02bcd6-4a97-4c3a-bfa6-8f69953c62c4"
   },
   "outputs": [
    {
     "data": {
      "text/html": [
       "\n",
       "  <div id=\"df-da27a886-fb6c-4ff6-a769-b6a402c48ea9\">\n",
       "    <div class=\"colab-df-container\">\n",
       "      <div>\n",
       "<style scoped>\n",
       "    .dataframe tbody tr th:only-of-type {\n",
       "        vertical-align: middle;\n",
       "    }\n",
       "\n",
       "    .dataframe tbody tr th {\n",
       "        vertical-align: top;\n",
       "    }\n",
       "\n",
       "    .dataframe thead th {\n",
       "        text-align: right;\n",
       "    }\n",
       "</style>\n",
       "<table border=\"1\" class=\"dataframe\">\n",
       "  <thead>\n",
       "    <tr style=\"text-align: right;\">\n",
       "      <th></th>\n",
       "      <th>id</th>\n",
       "      <th>hour</th>\n",
       "      <th>hour_bef_temperature</th>\n",
       "      <th>hour_bef_precipitation</th>\n",
       "      <th>hour_bef_windspeed</th>\n",
       "      <th>hour_bef_humidity</th>\n",
       "      <th>hour_bef_visibility</th>\n",
       "      <th>hour_bef_ozone</th>\n",
       "      <th>hour_bef_pm10</th>\n",
       "      <th>hour_bef_pm2.5</th>\n",
       "      <th>count</th>\n",
       "    </tr>\n",
       "  </thead>\n",
       "  <tbody>\n",
       "    <tr>\n",
       "      <th>count</th>\n",
       "      <td>1459.000000</td>\n",
       "      <td>1459.000000</td>\n",
       "      <td>1459.000000</td>\n",
       "      <td>1459.000000</td>\n",
       "      <td>1459.000000</td>\n",
       "      <td>1459.000000</td>\n",
       "      <td>1459.000000</td>\n",
       "      <td>1459.000000</td>\n",
       "      <td>1459.000000</td>\n",
       "      <td>1459.000000</td>\n",
       "      <td>1459.000000</td>\n",
       "    </tr>\n",
       "    <tr>\n",
       "      <th>mean</th>\n",
       "      <td>1105.914325</td>\n",
       "      <td>11.493489</td>\n",
       "      <td>16.712886</td>\n",
       "      <td>0.031528</td>\n",
       "      <td>2.476080</td>\n",
       "      <td>52.263879</td>\n",
       "      <td>1406.032214</td>\n",
       "      <td>0.039141</td>\n",
       "      <td>55.616175</td>\n",
       "      <td>29.418780</td>\n",
       "      <td>108.563400</td>\n",
       "    </tr>\n",
       "    <tr>\n",
       "      <th>std</th>\n",
       "      <td>631.338681</td>\n",
       "      <td>6.922790</td>\n",
       "      <td>5.236995</td>\n",
       "      <td>0.174801</td>\n",
       "      <td>1.374517</td>\n",
       "      <td>20.375410</td>\n",
       "      <td>583.147280</td>\n",
       "      <td>0.018994</td>\n",
       "      <td>31.365265</td>\n",
       "      <td>14.442239</td>\n",
       "      <td>82.631733</td>\n",
       "    </tr>\n",
       "    <tr>\n",
       "      <th>min</th>\n",
       "      <td>3.000000</td>\n",
       "      <td>0.000000</td>\n",
       "      <td>3.100000</td>\n",
       "      <td>0.000000</td>\n",
       "      <td>0.000000</td>\n",
       "      <td>7.000000</td>\n",
       "      <td>78.000000</td>\n",
       "      <td>0.003000</td>\n",
       "      <td>9.000000</td>\n",
       "      <td>8.000000</td>\n",
       "      <td>1.000000</td>\n",
       "    </tr>\n",
       "    <tr>\n",
       "      <th>25%</th>\n",
       "      <td>555.500000</td>\n",
       "      <td>5.500000</td>\n",
       "      <td>12.800000</td>\n",
       "      <td>0.000000</td>\n",
       "      <td>1.400000</td>\n",
       "      <td>36.000000</td>\n",
       "      <td>880.000000</td>\n",
       "      <td>0.026000</td>\n",
       "      <td>33.000000</td>\n",
       "      <td>19.000000</td>\n",
       "      <td>37.000000</td>\n",
       "    </tr>\n",
       "    <tr>\n",
       "      <th>50%</th>\n",
       "      <td>1115.000000</td>\n",
       "      <td>11.000000</td>\n",
       "      <td>16.600000</td>\n",
       "      <td>0.000000</td>\n",
       "      <td>2.300000</td>\n",
       "      <td>51.000000</td>\n",
       "      <td>1577.000000</td>\n",
       "      <td>0.039000</td>\n",
       "      <td>49.000000</td>\n",
       "      <td>25.000000</td>\n",
       "      <td>96.000000</td>\n",
       "    </tr>\n",
       "    <tr>\n",
       "      <th>75%</th>\n",
       "      <td>1651.000000</td>\n",
       "      <td>17.500000</td>\n",
       "      <td>20.050000</td>\n",
       "      <td>0.000000</td>\n",
       "      <td>3.400000</td>\n",
       "      <td>69.000000</td>\n",
       "      <td>1994.000000</td>\n",
       "      <td>0.051000</td>\n",
       "      <td>68.000000</td>\n",
       "      <td>36.000000</td>\n",
       "      <td>150.000000</td>\n",
       "    </tr>\n",
       "    <tr>\n",
       "      <th>max</th>\n",
       "      <td>2179.000000</td>\n",
       "      <td>23.000000</td>\n",
       "      <td>30.000000</td>\n",
       "      <td>1.000000</td>\n",
       "      <td>8.000000</td>\n",
       "      <td>99.000000</td>\n",
       "      <td>2000.000000</td>\n",
       "      <td>0.125000</td>\n",
       "      <td>269.000000</td>\n",
       "      <td>90.000000</td>\n",
       "      <td>431.000000</td>\n",
       "    </tr>\n",
       "  </tbody>\n",
       "</table>\n",
       "</div>\n",
       "      <button class=\"colab-df-convert\" onclick=\"convertToInteractive('df-da27a886-fb6c-4ff6-a769-b6a402c48ea9')\"\n",
       "              title=\"Convert this dataframe to an interactive table.\"\n",
       "              style=\"display:none;\">\n",
       "        \n",
       "  <svg xmlns=\"http://www.w3.org/2000/svg\" height=\"24px\"viewBox=\"0 0 24 24\"\n",
       "       width=\"24px\">\n",
       "    <path d=\"M0 0h24v24H0V0z\" fill=\"none\"/>\n",
       "    <path d=\"M18.56 5.44l.94 2.06.94-2.06 2.06-.94-2.06-.94-.94-2.06-.94 2.06-2.06.94zm-11 1L8.5 8.5l.94-2.06 2.06-.94-2.06-.94L8.5 2.5l-.94 2.06-2.06.94zm10 10l.94 2.06.94-2.06 2.06-.94-2.06-.94-.94-2.06-.94 2.06-2.06.94z\"/><path d=\"M17.41 7.96l-1.37-1.37c-.4-.4-.92-.59-1.43-.59-.52 0-1.04.2-1.43.59L10.3 9.45l-7.72 7.72c-.78.78-.78 2.05 0 2.83L4 21.41c.39.39.9.59 1.41.59.51 0 1.02-.2 1.41-.59l7.78-7.78 2.81-2.81c.8-.78.8-2.07 0-2.86zM5.41 20L4 18.59l7.72-7.72 1.47 1.35L5.41 20z\"/>\n",
       "  </svg>\n",
       "      </button>\n",
       "      \n",
       "  <style>\n",
       "    .colab-df-container {\n",
       "      display:flex;\n",
       "      flex-wrap:wrap;\n",
       "      gap: 12px;\n",
       "    }\n",
       "\n",
       "    .colab-df-convert {\n",
       "      background-color: #E8F0FE;\n",
       "      border: none;\n",
       "      border-radius: 50%;\n",
       "      cursor: pointer;\n",
       "      display: none;\n",
       "      fill: #1967D2;\n",
       "      height: 32px;\n",
       "      padding: 0 0 0 0;\n",
       "      width: 32px;\n",
       "    }\n",
       "\n",
       "    .colab-df-convert:hover {\n",
       "      background-color: #E2EBFA;\n",
       "      box-shadow: 0px 1px 2px rgba(60, 64, 67, 0.3), 0px 1px 3px 1px rgba(60, 64, 67, 0.15);\n",
       "      fill: #174EA6;\n",
       "    }\n",
       "\n",
       "    [theme=dark] .colab-df-convert {\n",
       "      background-color: #3B4455;\n",
       "      fill: #D2E3FC;\n",
       "    }\n",
       "\n",
       "    [theme=dark] .colab-df-convert:hover {\n",
       "      background-color: #434B5C;\n",
       "      box-shadow: 0px 1px 3px 1px rgba(0, 0, 0, 0.15);\n",
       "      filter: drop-shadow(0px 1px 2px rgba(0, 0, 0, 0.3));\n",
       "      fill: #FFFFFF;\n",
       "    }\n",
       "  </style>\n",
       "\n",
       "      <script>\n",
       "        const buttonEl =\n",
       "          document.querySelector('#df-da27a886-fb6c-4ff6-a769-b6a402c48ea9 button.colab-df-convert');\n",
       "        buttonEl.style.display =\n",
       "          google.colab.kernel.accessAllowed ? 'block' : 'none';\n",
       "\n",
       "        async function convertToInteractive(key) {\n",
       "          const element = document.querySelector('#df-da27a886-fb6c-4ff6-a769-b6a402c48ea9');\n",
       "          const dataTable =\n",
       "            await google.colab.kernel.invokeFunction('convertToInteractive',\n",
       "                                                     [key], {});\n",
       "          if (!dataTable) return;\n",
       "\n",
       "          const docLinkHtml = 'Like what you see? Visit the ' +\n",
       "            '<a target=\"_blank\" href=https://colab.research.google.com/notebooks/data_table.ipynb>data table notebook</a>'\n",
       "            + ' to learn more about interactive tables.';\n",
       "          element.innerHTML = '';\n",
       "          dataTable['output_type'] = 'display_data';\n",
       "          await google.colab.output.renderOutput(dataTable, element);\n",
       "          const docLink = document.createElement('div');\n",
       "          docLink.innerHTML = docLinkHtml;\n",
       "          element.appendChild(docLink);\n",
       "        }\n",
       "      </script>\n",
       "    </div>\n",
       "  </div>\n",
       "  "
      ],
      "text/plain": [
       "                id         hour  ...  hour_bef_pm2.5        count\n",
       "count  1459.000000  1459.000000  ...     1459.000000  1459.000000\n",
       "mean   1105.914325    11.493489  ...       29.418780   108.563400\n",
       "std     631.338681     6.922790  ...       14.442239    82.631733\n",
       "min       3.000000     0.000000  ...        8.000000     1.000000\n",
       "25%     555.500000     5.500000  ...       19.000000    37.000000\n",
       "50%    1115.000000    11.000000  ...       25.000000    96.000000\n",
       "75%    1651.000000    17.500000  ...       36.000000   150.000000\n",
       "max    2179.000000    23.000000  ...       90.000000   431.000000\n",
       "\n",
       "[8 rows x 11 columns]"
      ]
     },
     "execution_count": 19,
     "metadata": {},
     "output_type": "execute_result"
    }
   ],
   "source": [
    "train.describe()"
   ]
  },
  {
   "cell_type": "code",
   "execution_count": 109,
   "id": "3ec66136",
   "metadata": {
    "executionInfo": {
     "elapsed": 383,
     "status": "ok",
     "timestamp": 1645790107365,
     "user": {
      "displayName": "손찬우",
      "photoUrl": "https://lh3.googleusercontent.com/a/default-user=s64",
      "userId": "09923606150595330905"
     },
     "user_tz": -540
    },
    "id": "3ec66136"
   },
   "outputs": [],
   "source": [
    "x = train[['hour','hour_bef_temperature','hour_bef_precipitation',\n",
    "         'hour_bef_windspeed','hour_bef_humidity','hour_bef_visibility',\n",
    "         'hour_bef_ozone','hour_bef_pm10','hour_bef_pm2.5']]\n",
    "\n",
    "y = train['count']"
   ]
  },
  {
   "cell_type": "code",
   "execution_count": 110,
   "id": "11cea9db",
   "metadata": {
    "executionInfo": {
     "elapsed": 496,
     "status": "ok",
     "timestamp": 1645790110087,
     "user": {
      "displayName": "손찬우",
      "photoUrl": "https://lh3.googleusercontent.com/a/default-user=s64",
      "userId": "09923606150595330905"
     },
     "user_tz": -540
    },
    "id": "11cea9db"
   },
   "outputs": [],
   "source": [
    "from sklearn.ensemble import GradientBoostingRegressor, RandomForestRegressor\n",
    "from xgboost import XGBRegressor\n",
    "from lightgbm import LGBMRegressor\n",
    "from catboost import CatBoostRegressor\n",
    "from sklearn.metrics import mean_squared_error\n",
    "from sklearn.model_selection import KFold\n",
    "from ngboost import NGBRegressor\n",
    "from sklearn.metrics import mean_squared_error\n",
    "from sklearn.metrics import r2_score"
   ]
  },
  {
   "cell_type": "code",
   "execution_count": null,
   "id": "674afdbe",
   "metadata": {
    "id": "674afdbe"
   },
   "outputs": [],
   "source": [
    "!pip install catboost\n",
    "!pip install ngboost"
   ]
  },
  {
   "cell_type": "code",
   "execution_count": 23,
   "id": "61dda0fa",
   "metadata": {
    "executionInfo": {
     "elapsed": 369,
     "status": "ok",
     "timestamp": 1645781537539,
     "user": {
      "displayName": "손찬우",
      "photoUrl": "https://lh3.googleusercontent.com/a/default-user=s64",
      "userId": "09923606150595330905"
     },
     "user_tz": -540
    },
    "id": "61dda0fa"
   },
   "outputs": [],
   "source": [
    "import scipy.stats as ss # z-score 정규화 이상치에 덜 민감함"
   ]
  },
  {
   "cell_type": "code",
   "execution_count": 24,
   "id": "4447d135",
   "metadata": {
    "executionInfo": {
     "elapsed": 3,
     "status": "ok",
     "timestamp": 1645781539686,
     "user": {
      "displayName": "손찬우",
      "photoUrl": "https://lh3.googleusercontent.com/a/default-user=s64",
      "userId": "09923606150595330905"
     },
     "user_tz": -540
    },
    "id": "4447d135"
   },
   "outputs": [],
   "source": [
    "x_exp = ss.zscore(x[['hour','hour_bef_temperature',\n",
    "         'hour_bef_windspeed','hour_bef_humidity','hour_bef_visibility',\n",
    "         'hour_bef_ozone','hour_bef_pm10','hour_bef_pm2.5']])"
   ]
  },
  {
   "cell_type": "code",
   "execution_count": 25,
   "id": "758bc516",
   "metadata": {
    "executionInfo": {
     "elapsed": 384,
     "status": "ok",
     "timestamp": 1645781544079,
     "user": {
      "displayName": "손찬우",
      "photoUrl": "https://lh3.googleusercontent.com/a/default-user=s64",
      "userId": "09923606150595330905"
     },
     "user_tz": -540
    },
    "id": "758bc516"
   },
   "outputs": [],
   "source": [
    "x_exp = pd.DataFrame(x_exp, columns = ['hour','hour_bef_temperature',\n",
    "         'hour_bef_windspeed','hour_bef_humidity','hour_bef_visibility',\n",
    "         'hour_bef_ozone','hour_bef_pm10','hour_bef_pm2.5'])"
   ]
  },
  {
   "cell_type": "code",
   "execution_count": 26,
   "id": "e491baab",
   "metadata": {
    "executionInfo": {
     "elapsed": 392,
     "status": "ok",
     "timestamp": 1645781546464,
     "user": {
      "displayName": "손찬우",
      "photoUrl": "https://lh3.googleusercontent.com/a/default-user=s64",
      "userId": "09923606150595330905"
     },
     "user_tz": -540
    },
    "id": "e491baab"
   },
   "outputs": [],
   "source": [
    "x_exp['hour_bef_precipitation'] = train['hour_bef_precipitation'] "
   ]
  },
  {
   "cell_type": "code",
   "execution_count": 27,
   "id": "5ba50cd4",
   "metadata": {
    "colab": {
     "base_uri": "https://localhost:8080/"
    },
    "executionInfo": {
     "elapsed": 380,
     "status": "ok",
     "timestamp": 1645781549573,
     "user": {
      "displayName": "손찬우",
      "photoUrl": "https://lh3.googleusercontent.com/a/default-user=s64",
      "userId": "09923606150595330905"
     },
     "user_tz": -540
    },
    "id": "5ba50cd4",
    "outputId": "da748b7e-b34a-4987-9d43-ad80c3ac9394"
   },
   "outputs": [
    {
     "data": {
      "text/plain": [
       "Index(['hour', 'hour_bef_temperature', 'hour_bef_windspeed',\n",
       "       'hour_bef_humidity', 'hour_bef_visibility', 'hour_bef_ozone',\n",
       "       'hour_bef_pm10', 'hour_bef_pm2.5', 'hour_bef_precipitation'],\n",
       "      dtype='object')"
      ]
     },
     "execution_count": 27,
     "metadata": {},
     "output_type": "execute_result"
    }
   ],
   "source": [
    "x_exp.columns"
   ]
  },
  {
   "cell_type": "code",
   "execution_count": 79,
   "id": "FOp8AadsZHVj",
   "metadata": {
    "colab": {
     "base_uri": "https://localhost:8080/",
     "height": 488
    },
    "executionInfo": {
     "elapsed": 380,
     "status": "ok",
     "timestamp": 1645784370867,
     "user": {
      "displayName": "손찬우",
      "photoUrl": "https://lh3.googleusercontent.com/a/default-user=s64",
      "userId": "09923606150595330905"
     },
     "user_tz": -540
    },
    "id": "FOp8AadsZHVj",
    "outputId": "965c6de8-fbbd-415b-c990-4469daf5d2e1"
   },
   "outputs": [
    {
     "data": {
      "text/html": [
       "\n",
       "  <div id=\"df-a4719d7c-66a8-4b57-99f2-5b2d0b57960c\">\n",
       "    <div class=\"colab-df-container\">\n",
       "      <div>\n",
       "<style scoped>\n",
       "    .dataframe tbody tr th:only-of-type {\n",
       "        vertical-align: middle;\n",
       "    }\n",
       "\n",
       "    .dataframe tbody tr th {\n",
       "        vertical-align: top;\n",
       "    }\n",
       "\n",
       "    .dataframe thead th {\n",
       "        text-align: right;\n",
       "    }\n",
       "</style>\n",
       "<table border=\"1\" class=\"dataframe\">\n",
       "  <thead>\n",
       "    <tr style=\"text-align: right;\">\n",
       "      <th></th>\n",
       "      <th>hour</th>\n",
       "      <th>hour_bef_temperature</th>\n",
       "      <th>hour_bef_windspeed</th>\n",
       "      <th>hour_bef_humidity</th>\n",
       "      <th>hour_bef_visibility</th>\n",
       "      <th>hour_bef_ozone</th>\n",
       "      <th>hour_bef_pm10</th>\n",
       "      <th>hour_bef_pm2.5</th>\n",
       "      <th>hour_bef_precipitation</th>\n",
       "    </tr>\n",
       "  </thead>\n",
       "  <tbody>\n",
       "    <tr>\n",
       "      <th>0</th>\n",
       "      <td>1.229190</td>\n",
       "      <td>-0.078867</td>\n",
       "      <td>-0.710369</td>\n",
       "      <td>1.803582</td>\n",
       "      <td>-1.423854</td>\n",
       "      <td>-0.639423</td>\n",
       "      <td>0.650108</td>\n",
       "      <td>0.248053</td>\n",
       "      <td>1.0</td>\n",
       "    </tr>\n",
       "    <tr>\n",
       "      <th>1</th>\n",
       "      <td>0.217691</td>\n",
       "      <td>0.646989</td>\n",
       "      <td>-0.783147</td>\n",
       "      <td>-0.209338</td>\n",
       "      <td>-0.840611</td>\n",
       "      <td>0.150561</td>\n",
       "      <td>0.554428</td>\n",
       "      <td>0.732909</td>\n",
       "      <td>0.0</td>\n",
       "    </tr>\n",
       "    <tr>\n",
       "      <th>2</th>\n",
       "      <td>-0.793809</td>\n",
       "      <td>-0.537302</td>\n",
       "      <td>-1.292591</td>\n",
       "      <td>1.312626</td>\n",
       "      <td>-0.041225</td>\n",
       "      <td>-0.323430</td>\n",
       "      <td>-0.753199</td>\n",
       "      <td>-0.721658</td>\n",
       "      <td>0.0</td>\n",
       "    </tr>\n",
       "    <tr>\n",
       "      <th>3</th>\n",
       "      <td>1.662690</td>\n",
       "      <td>-1.645188</td>\n",
       "      <td>0.162964</td>\n",
       "      <td>0.085236</td>\n",
       "      <td>-0.789149</td>\n",
       "      <td>0.045230</td>\n",
       "      <td>0.618215</td>\n",
       "      <td>2.395271</td>\n",
       "      <td>0.0</td>\n",
       "    </tr>\n",
       "    <tr>\n",
       "      <th>4</th>\n",
       "      <td>0.940191</td>\n",
       "      <td>2.442526</td>\n",
       "      <td>1.691298</td>\n",
       "      <td>-2.222257</td>\n",
       "      <td>1.018905</td>\n",
       "      <td>0.940545</td>\n",
       "      <td>-0.912665</td>\n",
       "      <td>-1.275778</td>\n",
       "      <td>0.0</td>\n",
       "    </tr>\n",
       "    <tr>\n",
       "      <th>...</th>\n",
       "      <td>...</td>\n",
       "      <td>...</td>\n",
       "      <td>...</td>\n",
       "      <td>...</td>\n",
       "      <td>...</td>\n",
       "      <td>...</td>\n",
       "      <td>...</td>\n",
       "      <td>...</td>\n",
       "      <td>...</td>\n",
       "    </tr>\n",
       "    <tr>\n",
       "      <th>1454</th>\n",
       "      <td>-1.082809</td>\n",
       "      <td>0.016640</td>\n",
       "      <td>-0.637591</td>\n",
       "      <td>0.036140</td>\n",
       "      <td>1.018905</td>\n",
       "      <td>-0.428761</td>\n",
       "      <td>-0.593732</td>\n",
       "      <td>-0.167537</td>\n",
       "      <td>0.0</td>\n",
       "    </tr>\n",
       "    <tr>\n",
       "      <th>1455</th>\n",
       "      <td>-1.227309</td>\n",
       "      <td>-1.129448</td>\n",
       "      <td>0.963520</td>\n",
       "      <td>-0.356624</td>\n",
       "      <td>1.018905</td>\n",
       "      <td>-0.007436</td>\n",
       "      <td>-0.689412</td>\n",
       "      <td>-0.721658</td>\n",
       "      <td>0.0</td>\n",
       "    </tr>\n",
       "    <tr>\n",
       "      <th>1456</th>\n",
       "      <td>-0.938309</td>\n",
       "      <td>0.303162</td>\n",
       "      <td>-0.419258</td>\n",
       "      <td>0.085236</td>\n",
       "      <td>1.018905</td>\n",
       "      <td>-1.587404</td>\n",
       "      <td>-0.816985</td>\n",
       "      <td>-0.583127</td>\n",
       "      <td>0.0</td>\n",
       "    </tr>\n",
       "    <tr>\n",
       "      <th>1457</th>\n",
       "      <td>1.373690</td>\n",
       "      <td>0.761597</td>\n",
       "      <td>0.890742</td>\n",
       "      <td>-0.749389</td>\n",
       "      <td>-0.018925</td>\n",
       "      <td>2.257184</td>\n",
       "      <td>0.490641</td>\n",
       "      <td>0.455849</td>\n",
       "      <td>0.0</td>\n",
       "    </tr>\n",
       "    <tr>\n",
       "      <th>1458</th>\n",
       "      <td>0.795691</td>\n",
       "      <td>0.838003</td>\n",
       "      <td>0.454075</td>\n",
       "      <td>-0.258433</td>\n",
       "      <td>0.972588</td>\n",
       "      <td>0.361223</td>\n",
       "      <td>-0.561839</td>\n",
       "      <td>-0.860188</td>\n",
       "      <td>0.0</td>\n",
       "    </tr>\n",
       "  </tbody>\n",
       "</table>\n",
       "<p>1459 rows × 9 columns</p>\n",
       "</div>\n",
       "      <button class=\"colab-df-convert\" onclick=\"convertToInteractive('df-a4719d7c-66a8-4b57-99f2-5b2d0b57960c')\"\n",
       "              title=\"Convert this dataframe to an interactive table.\"\n",
       "              style=\"display:none;\">\n",
       "        \n",
       "  <svg xmlns=\"http://www.w3.org/2000/svg\" height=\"24px\"viewBox=\"0 0 24 24\"\n",
       "       width=\"24px\">\n",
       "    <path d=\"M0 0h24v24H0V0z\" fill=\"none\"/>\n",
       "    <path d=\"M18.56 5.44l.94 2.06.94-2.06 2.06-.94-2.06-.94-.94-2.06-.94 2.06-2.06.94zm-11 1L8.5 8.5l.94-2.06 2.06-.94-2.06-.94L8.5 2.5l-.94 2.06-2.06.94zm10 10l.94 2.06.94-2.06 2.06-.94-2.06-.94-.94-2.06-.94 2.06-2.06.94z\"/><path d=\"M17.41 7.96l-1.37-1.37c-.4-.4-.92-.59-1.43-.59-.52 0-1.04.2-1.43.59L10.3 9.45l-7.72 7.72c-.78.78-.78 2.05 0 2.83L4 21.41c.39.39.9.59 1.41.59.51 0 1.02-.2 1.41-.59l7.78-7.78 2.81-2.81c.8-.78.8-2.07 0-2.86zM5.41 20L4 18.59l7.72-7.72 1.47 1.35L5.41 20z\"/>\n",
       "  </svg>\n",
       "      </button>\n",
       "      \n",
       "  <style>\n",
       "    .colab-df-container {\n",
       "      display:flex;\n",
       "      flex-wrap:wrap;\n",
       "      gap: 12px;\n",
       "    }\n",
       "\n",
       "    .colab-df-convert {\n",
       "      background-color: #E8F0FE;\n",
       "      border: none;\n",
       "      border-radius: 50%;\n",
       "      cursor: pointer;\n",
       "      display: none;\n",
       "      fill: #1967D2;\n",
       "      height: 32px;\n",
       "      padding: 0 0 0 0;\n",
       "      width: 32px;\n",
       "    }\n",
       "\n",
       "    .colab-df-convert:hover {\n",
       "      background-color: #E2EBFA;\n",
       "      box-shadow: 0px 1px 2px rgba(60, 64, 67, 0.3), 0px 1px 3px 1px rgba(60, 64, 67, 0.15);\n",
       "      fill: #174EA6;\n",
       "    }\n",
       "\n",
       "    [theme=dark] .colab-df-convert {\n",
       "      background-color: #3B4455;\n",
       "      fill: #D2E3FC;\n",
       "    }\n",
       "\n",
       "    [theme=dark] .colab-df-convert:hover {\n",
       "      background-color: #434B5C;\n",
       "      box-shadow: 0px 1px 3px 1px rgba(0, 0, 0, 0.15);\n",
       "      filter: drop-shadow(0px 1px 2px rgba(0, 0, 0, 0.3));\n",
       "      fill: #FFFFFF;\n",
       "    }\n",
       "  </style>\n",
       "\n",
       "      <script>\n",
       "        const buttonEl =\n",
       "          document.querySelector('#df-a4719d7c-66a8-4b57-99f2-5b2d0b57960c button.colab-df-convert');\n",
       "        buttonEl.style.display =\n",
       "          google.colab.kernel.accessAllowed ? 'block' : 'none';\n",
       "\n",
       "        async function convertToInteractive(key) {\n",
       "          const element = document.querySelector('#df-a4719d7c-66a8-4b57-99f2-5b2d0b57960c');\n",
       "          const dataTable =\n",
       "            await google.colab.kernel.invokeFunction('convertToInteractive',\n",
       "                                                     [key], {});\n",
       "          if (!dataTable) return;\n",
       "\n",
       "          const docLinkHtml = 'Like what you see? Visit the ' +\n",
       "            '<a target=\"_blank\" href=https://colab.research.google.com/notebooks/data_table.ipynb>data table notebook</a>'\n",
       "            + ' to learn more about interactive tables.';\n",
       "          element.innerHTML = '';\n",
       "          dataTable['output_type'] = 'display_data';\n",
       "          await google.colab.output.renderOutput(dataTable, element);\n",
       "          const docLink = document.createElement('div');\n",
       "          docLink.innerHTML = docLinkHtml;\n",
       "          element.appendChild(docLink);\n",
       "        }\n",
       "      </script>\n",
       "    </div>\n",
       "  </div>\n",
       "  "
      ],
      "text/plain": [
       "          hour  hour_bef_temperature  ...  hour_bef_pm2.5  hour_bef_precipitation\n",
       "0     1.229190             -0.078867  ...        0.248053                     1.0\n",
       "1     0.217691              0.646989  ...        0.732909                     0.0\n",
       "2    -0.793809             -0.537302  ...       -0.721658                     0.0\n",
       "3     1.662690             -1.645188  ...        2.395271                     0.0\n",
       "4     0.940191              2.442526  ...       -1.275778                     0.0\n",
       "...        ...                   ...  ...             ...                     ...\n",
       "1454 -1.082809              0.016640  ...       -0.167537                     0.0\n",
       "1455 -1.227309             -1.129448  ...       -0.721658                     0.0\n",
       "1456 -0.938309              0.303162  ...       -0.583127                     0.0\n",
       "1457  1.373690              0.761597  ...        0.455849                     0.0\n",
       "1458  0.795691              0.838003  ...       -0.860188                     0.0\n",
       "\n",
       "[1459 rows x 9 columns]"
      ]
     },
     "execution_count": 79,
     "metadata": {},
     "output_type": "execute_result"
    }
   ],
   "source": [
    "x_exp"
   ]
  },
  {
   "cell_type": "code",
   "execution_count": null,
   "id": "F7dIvo-tLfXN",
   "metadata": {
    "id": "F7dIvo-tLfXN"
   },
   "outputs": [],
   "source": [
    "from google.colab import drive\n",
    "drive.mount('/content/drive')"
   ]
  },
  {
   "cell_type": "code",
   "execution_count": 80,
   "id": "tMCRWxmzQ67Q",
   "metadata": {
    "executionInfo": {
     "elapsed": 463,
     "status": "ok",
     "timestamp": 1645784408694,
     "user": {
      "displayName": "손찬우",
      "photoUrl": "https://lh3.googleusercontent.com/a/default-user=s64",
      "userId": "09923606150595330905"
     },
     "user_tz": -540
    },
    "id": "tMCRWxmzQ67Q"
   },
   "outputs": [],
   "source": [
    "target = test[['hour','hour_bef_temperature',\n",
    "         'hour_bef_windspeed','hour_bef_humidity','hour_bef_visibility',\n",
    "         'hour_bef_ozone','hour_bef_pm10','hour_bef_pm2.5']]\n",
    "target = ss.zscore(target[['hour','hour_bef_temperature',\n",
    "         'hour_bef_windspeed','hour_bef_humidity','hour_bef_visibility',\n",
    "         'hour_bef_ozone','hour_bef_pm10','hour_bef_pm2.5']])\n",
    "target = pd.DataFrame(target, columns = ['hour','hour_bef_temperature',\n",
    "         'hour_bef_windspeed','hour_bef_humidity','hour_bef_visibility',\n",
    "         'hour_bef_ozone','hour_bef_pm10','hour_bef_pm2.5'])\n",
    "target['hour_bef_precipitation'] = test['hour_bef_precipitation'] "
   ]
  },
  {
   "cell_type": "code",
   "execution_count": 82,
   "id": "pdtGFQjTY_Jz",
   "metadata": {
    "colab": {
     "base_uri": "https://localhost:8080/"
    },
    "executionInfo": {
     "elapsed": 395,
     "status": "ok",
     "timestamp": 1645784423960,
     "user": {
      "displayName": "손찬우",
      "photoUrl": "https://lh3.googleusercontent.com/a/default-user=s64",
      "userId": "09923606150595330905"
     },
     "user_tz": -540
    },
    "id": "pdtGFQjTY_Jz",
    "outputId": "65fa9211-8266-4830-9807-e287f5da39e4"
   },
   "outputs": [
    {
     "name": "stdout",
     "output_type": "stream",
     "text": [
      "<class 'pandas.core.frame.DataFrame'>\n",
      "RangeIndex: 715 entries, 0 to 714\n",
      "Data columns (total 10 columns):\n",
      " #   Column                  Non-Null Count  Dtype  \n",
      "---  ------                  --------------  -----  \n",
      " 0   id                      715 non-null    int64  \n",
      " 1   hour                    715 non-null    int64  \n",
      " 2   hour_bef_temperature    714 non-null    float64\n",
      " 3   hour_bef_precipitation  714 non-null    float64\n",
      " 4   hour_bef_windspeed      714 non-null    float64\n",
      " 5   hour_bef_humidity       714 non-null    float64\n",
      " 6   hour_bef_visibility     714 non-null    float64\n",
      " 7   hour_bef_ozone          680 non-null    float64\n",
      " 8   hour_bef_pm10           678 non-null    float64\n",
      " 9   hour_bef_pm2.5          679 non-null    float64\n",
      "dtypes: float64(8), int64(2)\n",
      "memory usage: 56.0 KB\n"
     ]
    }
   ],
   "source": [
    "test.info()"
   ]
  },
  {
   "cell_type": "code",
   "execution_count": 28,
   "id": "d594ac63",
   "metadata": {
    "executionInfo": {
     "elapsed": 398,
     "status": "ok",
     "timestamp": 1645781874453,
     "user": {
      "displayName": "손찬우",
      "photoUrl": "https://lh3.googleusercontent.com/a/default-user=s64",
      "userId": "09923606150595330905"
     },
     "user_tz": -540
    },
    "id": "d594ac63"
   },
   "outputs": [],
   "source": [
    "kfold = KFold(n_splits = 5)"
   ]
  },
  {
   "cell_type": "code",
   "execution_count": 85,
   "id": "61976e75",
   "metadata": {
    "executionInfo": {
     "elapsed": 399,
     "status": "ok",
     "timestamp": 1645784677566,
     "user": {
      "displayName": "손찬우",
      "photoUrl": "https://lh3.googleusercontent.com/a/default-user=s64",
      "userId": "09923606150595330905"
     },
     "user_tz": -540
    },
    "id": "61976e75"
   },
   "outputs": [],
   "source": [
    "### XGBRegressor\n",
    "xgb = XGBRegressor(objective='reg:squarederror',random_state = 518)"
   ]
  },
  {
   "cell_type": "code",
   "execution_count": 86,
   "id": "4d6373fc",
   "metadata": {
    "executionInfo": {
     "elapsed": 396,
     "status": "ok",
     "timestamp": 1645784680398,
     "user": {
      "displayName": "손찬우",
      "photoUrl": "https://lh3.googleusercontent.com/a/default-user=s64",
      "userId": "09923606150595330905"
     },
     "user_tz": -540
    },
    "id": "4d6373fc"
   },
   "outputs": [],
   "source": [
    "rmse_list = []\n",
    "r2_list = []\n",
    "xgb_pred = np.zeros((test.shape[0]))\n",
    "for tr_idx, val_idx in kfold.split(x_exp, y) :\n",
    "    tr_x, tr_y = x_exp.iloc[tr_idx], y.iloc[tr_idx]\n",
    "    val_x, val_y = x_exp.iloc[val_idx], y.iloc[val_idx]\n",
    "    \n",
    "    xgb.fit(tr_x, tr_y)\n",
    "    \n",
    "    pred = xgb.predict(val_x)\n",
    "    rmse = np.sqrt(mean_squared_error(val_y, pred))\n",
    "    \n",
    "    rmse_list.append(rmse)\n",
    "    r2 = r2_score(val_y,pred)\n",
    "    r2_list.append(r2)"
   ]
  },
  {
   "cell_type": "code",
   "execution_count": 87,
   "id": "47fa6af5",
   "metadata": {
    "colab": {
     "base_uri": "https://localhost:8080/"
    },
    "executionInfo": {
     "elapsed": 369,
     "status": "ok",
     "timestamp": 1645784682518,
     "user": {
      "displayName": "손찬우",
      "photoUrl": "https://lh3.googleusercontent.com/a/default-user=s64",
      "userId": "09923606150595330905"
     },
     "user_tz": -540
    },
    "id": "47fa6af5",
    "outputId": "ea74eafc-76c4-4578-9cd4-386181ccac86"
   },
   "outputs": [
    {
     "name": "stdout",
     "output_type": "stream",
     "text": [
      "39.823540086823904\n",
      "0.7663063779250215\n"
     ]
    }
   ],
   "source": [
    "print(np.mean(rmse_list))\n",
    "print(np.mean(r2_list))"
   ]
  },
  {
   "cell_type": "code",
   "execution_count": 49,
   "id": "eda103f4",
   "metadata": {
    "executionInfo": {
     "elapsed": 397,
     "status": "ok",
     "timestamp": 1645783616157,
     "user": {
      "displayName": "손찬우",
      "photoUrl": "https://lh3.googleusercontent.com/a/default-user=s64",
      "userId": "09923606150595330905"
     },
     "user_tz": -540
    },
    "id": "eda103f4"
   },
   "outputs": [],
   "source": [
    "### LGBMRegressor\n",
    "lgbm = LGBMRegressor(random_state = 518)"
   ]
  },
  {
   "cell_type": "code",
   "execution_count": 62,
   "id": "fd63348f",
   "metadata": {
    "executionInfo": {
     "elapsed": 1051,
     "status": "ok",
     "timestamp": 1645783965240,
     "user": {
      "displayName": "손찬우",
      "photoUrl": "https://lh3.googleusercontent.com/a/default-user=s64",
      "userId": "09923606150595330905"
     },
     "user_tz": -540
    },
    "id": "fd63348f"
   },
   "outputs": [],
   "source": [
    "rmse_list = []\n",
    "r2_list = []\n",
    "lgb_pred = np.zeros((test.shape[0]))\n",
    "for tr_idx, val_idx in kfold.split(x_exp, y) :\n",
    "    tr_x, tr_y = x_exp.iloc[tr_idx], y.iloc[tr_idx]\n",
    "    val_x, val_y = x_exp.iloc[val_idx], y.iloc[val_idx]\n",
    "    \n",
    "    lgbm.fit(tr_x, tr_y)\n",
    "    \n",
    "    pred = lgbm.predict(val_x)\n",
    "    rmse = np.sqrt(mean_squared_error(val_y, pred))\n",
    "    \n",
    "    rmse_list.append(rmse)\n",
    "    r2 = r2_score(val_y,pred)\n",
    "    r2_list.append(r2)"
   ]
  },
  {
   "cell_type": "code",
   "execution_count": 63,
   "id": "e657f314",
   "metadata": {
    "colab": {
     "base_uri": "https://localhost:8080/"
    },
    "executionInfo": {
     "elapsed": 384,
     "status": "ok",
     "timestamp": 1645783968052,
     "user": {
      "displayName": "손찬우",
      "photoUrl": "https://lh3.googleusercontent.com/a/default-user=s64",
      "userId": "09923606150595330905"
     },
     "user_tz": -540
    },
    "id": "e657f314",
    "outputId": "23c8843f-402c-49e7-da28-9f1e3aad5825"
   },
   "outputs": [
    {
     "name": "stdout",
     "output_type": "stream",
     "text": [
      "38.395290111265005\n",
      "0.7827524858428869\n"
     ]
    }
   ],
   "source": [
    "print(np.mean(rmse_list))\n",
    "print(np.mean(r2_list))"
   ]
  },
  {
   "cell_type": "code",
   "execution_count": 58,
   "id": "11676546",
   "metadata": {
    "executionInfo": {
     "elapsed": 776,
     "status": "ok",
     "timestamp": 1645783884178,
     "user": {
      "displayName": "손찬우",
      "photoUrl": "https://lh3.googleusercontent.com/a/default-user=s64",
      "userId": "09923606150595330905"
     },
     "user_tz": -540
    },
    "id": "11676546"
   },
   "outputs": [],
   "source": [
    "#### CatBoost\n",
    "cat = CatBoostRegressor(random_state = 518, silent = True)"
   ]
  },
  {
   "cell_type": "code",
   "execution_count": 65,
   "id": "067abb31",
   "metadata": {
    "executionInfo": {
     "elapsed": 10612,
     "status": "ok",
     "timestamp": 1645784019760,
     "user": {
      "displayName": "손찬우",
      "photoUrl": "https://lh3.googleusercontent.com/a/default-user=s64",
      "userId": "09923606150595330905"
     },
     "user_tz": -540
    },
    "id": "067abb31"
   },
   "outputs": [],
   "source": [
    "rmse_list = []\n",
    "r2_list = []\n",
    "cat_pred = np.zeros((test.shape[0]))\n",
    "for tr_idx, val_idx in kfold.split(x_exp, y) :\n",
    "    tr_x, tr_y = x_exp.iloc[tr_idx], y.iloc[tr_idx]\n",
    "    val_x, val_y = x_exp.iloc[val_idx], y.iloc[val_idx]\n",
    "    \n",
    "    cat.fit(tr_x, tr_y)\n",
    "    \n",
    "    pred = cat.predict(val_x)\n",
    "    rmse = np.sqrt(mean_squared_error(val_y, pred))\n",
    "    \n",
    "    rmse_list.append(rmse)\n",
    "    r2 = r2_score(val_y,pred)\n",
    "    r2_list.append(r2)"
   ]
  },
  {
   "cell_type": "code",
   "execution_count": 66,
   "id": "e1c5022e",
   "metadata": {
    "colab": {
     "base_uri": "https://localhost:8080/"
    },
    "executionInfo": {
     "elapsed": 388,
     "status": "ok",
     "timestamp": 1645784030893,
     "user": {
      "displayName": "손찬우",
      "photoUrl": "https://lh3.googleusercontent.com/a/default-user=s64",
      "userId": "09923606150595330905"
     },
     "user_tz": -540
    },
    "id": "e1c5022e",
    "outputId": "1d68a09c-1edd-4f40-cce3-9ac36c27c7b2"
   },
   "outputs": [
    {
     "name": "stdout",
     "output_type": "stream",
     "text": [
      "36.64073429318722\n",
      "0.8022993451151672\n"
     ]
    }
   ],
   "source": [
    "print(np.mean(rmse_list))\n",
    "print(np.mean(r2_list))"
   ]
  },
  {
   "cell_type": "code",
   "execution_count": 83,
   "id": "191c1823",
   "metadata": {
    "executionInfo": {
     "elapsed": 4538,
     "status": "ok",
     "timestamp": 1645784479598,
     "user": {
      "displayName": "손찬우",
      "photoUrl": "https://lh3.googleusercontent.com/a/default-user=s64",
      "userId": "09923606150595330905"
     },
     "user_tz": -540
    },
    "id": "191c1823"
   },
   "outputs": [],
   "source": [
    "### random forest\n",
    "rf = RandomForestRegressor(random_state = 518)\n",
    "rmse_list = []\n",
    "r2_list = []\n",
    "rf_pred = np.zeros((test.shape[0]))\n",
    "for tr_idx, val_idx in kfold.split(x_exp, y) :\n",
    "    tr_x, tr_y = x_exp.iloc[tr_idx], y.iloc[tr_idx]\n",
    "    val_x, val_y = x_exp.iloc[val_idx], y.iloc[val_idx]\n",
    "    \n",
    "    rf.fit(tr_x, tr_y)\n",
    "    \n",
    "    pred = rf.predict(val_x)\n",
    "    rmse = np.sqrt(mean_squared_error(val_y, pred))\n",
    "    \n",
    "    rmse_list.append(rmse)\n",
    "    r2 = r2_score(val_y,pred)\n",
    "    r2_list.append(r2)"
   ]
  },
  {
   "cell_type": "code",
   "execution_count": 84,
   "id": "9z9WiKxVXYW2",
   "metadata": {
    "colab": {
     "base_uri": "https://localhost:8080/"
    },
    "executionInfo": {
     "elapsed": 414,
     "status": "ok",
     "timestamp": 1645784491442,
     "user": {
      "displayName": "손찬우",
      "photoUrl": "https://lh3.googleusercontent.com/a/default-user=s64",
      "userId": "09923606150595330905"
     },
     "user_tz": -540
    },
    "id": "9z9WiKxVXYW2",
    "outputId": "d44ac83e-923f-4e52-ec84-6e5d36ac1d3f"
   },
   "outputs": [
    {
     "name": "stdout",
     "output_type": "stream",
     "text": [
      "38.23282292299709\n",
      "0.7850344471367707\n"
     ]
    }
   ],
   "source": [
    "print(np.mean(rmse_list))\n",
    "print(np.mean(r2_list))"
   ]
  }
 ],
 "metadata": {
  "accelerator": "GPU",
  "colab": {
   "name": "Untitled.ipynb",
   "provenance": []
  },
  "kernelspec": {
   "display_name": "Python 3 (ipykernel)",
   "language": "python",
   "name": "python3"
  },
  "language_info": {
   "codemirror_mode": {
    "name": "ipython",
    "version": 3
   },
   "file_extension": ".py",
   "mimetype": "text/x-python",
   "name": "python",
   "nbconvert_exporter": "python",
   "pygments_lexer": "ipython3",
   "version": "3.9.7"
  }
 },
 "nbformat": 4,
 "nbformat_minor": 5
}
